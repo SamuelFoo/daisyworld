{
 "cells": [
  {
   "cell_type": "code",
   "execution_count": null,
   "metadata": {},
   "outputs": [],
   "source": [
    "import numpy as np\n",
    "import matplotlib.pyplot as plt\n",
    "from helper import kelvin, solve\n",
    "\n",
    "%reload_ext autoreload\n",
    "%autoreload 2"
   ]
  },
  {
   "cell_type": "code",
   "execution_count": null,
   "metadata": {},
   "outputs": [],
   "source": [
    "T_opt = kelvin(22.5)\n",
    "T_min = kelvin(5)\n",
    "T_max = kelvin(40)"
   ]
  },
  {
   "cell_type": "code",
   "execution_count": null,
   "metadata": {},
   "outputs": [],
   "source": [
    "def solve_all(Ls, A_w0, A_b0):\n",
    "    T_ps = []\n",
    "    A_ws, A_bs = [], []\n",
    "    A_w = A_w0\n",
    "    A_b = A_b0\n",
    "\n",
    "    for L in Ls:\n",
    "        T_p, A_w, A_b = solve(L, A_w=A_w, A_b=A_b)\n",
    "        A_ws.append(A_w)\n",
    "        A_bs.append(A_b)\n",
    "        T_ps.append(T_p)\n",
    "\n",
    "    return T_ps, A_ws, A_bs"
   ]
  },
  {
   "cell_type": "code",
   "execution_count": null,
   "metadata": {},
   "outputs": [],
   "source": [
    "Ls_1 = np.linspace(0.4, 1.8, 500)\n",
    "A_w, A_b = 0.5, 0.5\n",
    "T_ps_1, A_ws_1, A_bs_1 = solve_all(Ls_1, A_w0=A_w, A_b0=A_b)\n",
    "\n",
    "Ls_2 = np.linspace(1.8, 0.4, 500)\n",
    "A_w, A_b = 0.5, 0.5\n",
    "T_ps_2, A_ws_2, A_bs_2 = solve_all(Ls_2, A_w0=A_w, A_b0=A_b)"
   ]
  },
  {
   "cell_type": "code",
   "execution_count": null,
   "metadata": {},
   "outputs": [],
   "source": [
    "plt.plot(Ls_1, T_ps_1, label=\"Increasing $L$\")\n",
    "plt.plot(Ls_2, T_ps_2, label=\"Decreasing $L$\")\n",
    "\n",
    "plt.legend()\n",
    "plt.show()"
   ]
  },
  {
   "cell_type": "code",
   "execution_count": null,
   "metadata": {},
   "outputs": [],
   "source": [
    "plt.plot(Ls_1, A_ws_1, label=\"Increasing $L$\")\n",
    "plt.plot(Ls_1, A_bs_1, label=\"Increasing $L$\")\n",
    "plt.plot(Ls_2, A_ws_2, label=\"Decreasing $L$\")\n",
    "plt.plot(Ls_2, A_bs_2, label=\"Decreasing $L$\")\n",
    "\n",
    "plt.legend()\n",
    "plt.show()"
   ]
  },
  {
   "cell_type": "code",
   "execution_count": null,
   "metadata": {},
   "outputs": [],
   "source": []
  }
 ],
 "metadata": {
  "kernelspec": {
   "display_name": "py312",
   "language": "python",
   "name": "python3"
  },
  "language_info": {
   "codemirror_mode": {
    "name": "ipython",
    "version": 3
   },
   "file_extension": ".py",
   "mimetype": "text/x-python",
   "name": "python",
   "nbconvert_exporter": "python",
   "pygments_lexer": "ipython3",
   "version": "3.12.0"
  }
 },
 "nbformat": 4,
 "nbformat_minor": 2
}
