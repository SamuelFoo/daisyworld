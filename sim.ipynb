{
 "cells": [
  {
   "cell_type": "code",
   "execution_count": null,
   "metadata": {},
   "outputs": [],
   "source": [
    "import numpy as np\n",
    "import matplotlib.pyplot as plt\n",
    "from scipy.integrate import solve_ivp\n",
    "from helper import kelvin\n",
    "\n",
    "%reload_ext autoreload\n",
    "%autoreload 2"
   ]
  },
  {
   "cell_type": "code",
   "execution_count": null,
   "metadata": {},
   "outputs": [],
   "source": [
    "S_0 = 917\n",
    "L = 1.2\n",
    "R = 0.2\n",
    "gamma = 0.3\n",
    "sigma = 5.67037442e-8\n",
    "\n",
    "alpha_b = 0.25\n",
    "alpha_w = 0.75\n",
    "alpha_g = 0.5\n",
    "\n",
    "T_opt = kelvin(22.5)\n",
    "T_min = kelvin(5)\n",
    "T_max = kelvin(40)"
   ]
  },
  {
   "cell_type": "code",
   "execution_count": null,
   "metadata": {},
   "outputs": [],
   "source": [
    "def solve(L, A_w, A_b):\n",
    "    beta = lambda T: 1 - 0.003265 * (295.5 - T) ** 2\n",
    "    local_T = lambda alpha_p, alpha_i, T_p: (\n",
    "        R * L * S_0 / sigma * (alpha_p - alpha_i) + T_p**4\n",
    "    ) ** (1 / 4)\n",
    "\n",
    "    def f(t, y):\n",
    "        A_w, A_b = y\n",
    "        A_g = x = 1 - A_w - A_b\n",
    "        alpha_p = A_w * alpha_w + A_b * alpha_b + A_g * alpha_g\n",
    "        T_p = (L * S_0 / sigma * (1 - alpha_p)) ** (1 / 4)\n",
    "\n",
    "        T_w = local_T(alpha_p, alpha_i=alpha_w, T_p=T_p)\n",
    "        T_b = local_T(alpha_p, alpha_i=alpha_b, T_p=T_p)\n",
    "\n",
    "        beta_w = beta(T_w)\n",
    "        beta_b = beta(T_b)\n",
    "\n",
    "        return [A_w * (x * beta_w - gamma), A_b * (x * beta_b - gamma)]\n",
    "\n",
    "    t_f = 50\n",
    "    sol = solve_ivp(f, [0, t_f], y0=[A_w, A_b])\n",
    "\n",
    "    A_w, A_b = sol.y\n",
    "    A_g = x = 1 - A_w - A_b\n",
    "    alpha_p = A_w * alpha_w + A_b * alpha_b + A_g * alpha_g\n",
    "    T_p = (L * S_0 / sigma * (1 - alpha_p)) ** (1 / 4)\n",
    "    return T_p[-1], max(A_w[-1], 0.01), max(A_b[-1], 0.01)\n",
    "\n",
    "\n",
    "def years(num_years):\n",
    "    return num_years * 365 * 24 * 60 * 60"
   ]
  },
  {
   "cell_type": "code",
   "execution_count": null,
   "metadata": {},
   "outputs": [],
   "source": [
    "Ls = np.linspace(0.4, 1.8, 100)\n",
    "A_w, A_b = 0.5, 0.5\n",
    "Tps = []\n",
    "for L in Ls:\n",
    "    T_p, A_w, A_b = solve(L, A_w=A_w, A_b=A_b)\n",
    "    Tps.append(T_p)\n",
    "\n",
    "plt.plot(Ls, Tps)\n",
    "\n",
    "Ls = np.linspace(1.8, 0.4, 100)\n",
    "A_w, A_b = 0.5, 0.5\n",
    "Tps = []\n",
    "for L in Ls:\n",
    "    T_p, A_w, A_b = solve(L, A_w=A_w, A_b=A_b)\n",
    "    Tps.append(T_p)\n",
    "\n",
    "plt.plot(Ls, Tps)"
   ]
  },
  {
   "cell_type": "code",
   "execution_count": null,
   "metadata": {},
   "outputs": [],
   "source": [
    "Ls = np.linspace(0.4, 1.6, 100)\n",
    "A_w, A_b = 0.1, 0.1\n",
    "Tps = []\n",
    "for L in Ls:\n",
    "    T_p, A_w, A_b = solve(L, A_w=A_w, A_b=A_b)\n",
    "    Tps.append(T_p)\n",
    "\n",
    "plt.plot(Ls, Tps)\n",
    "\n",
    "Ls = np.linspace(1.6, 0.4, 100)\n",
    "A_w, A_b = 0.1, 0.1\n",
    "Tps = []\n",
    "for L in Ls:\n",
    "    T_p, A_w, A_b = solve(L, A_w=A_w, A_b=A_b)\n",
    "    Tps.append(T_p)\n",
    "\n",
    "plt.plot(Ls, Tps)"
   ]
  },
  {
   "cell_type": "code",
   "execution_count": null,
   "metadata": {},
   "outputs": [],
   "source": [
    "Ls = np.linspace(0.4, 1.6, 100)\n",
    "A_w, A_b = 0.5, 0.5\n",
    "Tps = []\n",
    "for L in Ls:\n",
    "    T_p, _, _ = solve(L, A_w=A_w, A_b=A_b)\n",
    "    Tps.append(T_p)\n",
    "\n",
    "plt.plot(Ls, Tps)\n",
    "\n",
    "Ls = np.linspace(1.6, 0.4, 100)\n",
    "A_w, A_b = 0.5, 0.5\n",
    "Tps = []\n",
    "for L in Ls:\n",
    "    T_p, _, _ = solve(L, A_w=A_w, A_b=A_b)\n",
    "    Tps.append(T_p)\n",
    "\n",
    "plt.plot(Ls, Tps)"
   ]
  },
  {
   "cell_type": "code",
   "execution_count": null,
   "metadata": {},
   "outputs": [],
   "source": []
  }
 ],
 "metadata": {
  "kernelspec": {
   "display_name": "py312",
   "language": "python",
   "name": "python3"
  },
  "language_info": {
   "codemirror_mode": {
    "name": "ipython",
    "version": 3
   },
   "file_extension": ".py",
   "mimetype": "text/x-python",
   "name": "python",
   "nbconvert_exporter": "python",
   "pygments_lexer": "ipython3",
   "version": "3.12.0"
  }
 },
 "nbformat": 4,
 "nbformat_minor": 2
}
