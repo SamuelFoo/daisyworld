{
 "cells": [
  {
   "cell_type": "code",
   "execution_count": null,
   "metadata": {},
   "outputs": [],
   "source": [
    "import numpy as np\n",
    "import matplotlib.pyplot as plt\n",
    "from helper import kelvin, solve\n",
    "\n",
    "%reload_ext autoreload\n",
    "%autoreload 2"
   ]
  },
  {
   "cell_type": "code",
   "execution_count": null,
   "metadata": {},
   "outputs": [],
   "source": [
    "T_opt = kelvin(22.5)\n",
    "T_min = kelvin(5)\n",
    "T_max = kelvin(40)"
   ]
  },
  {
   "cell_type": "code",
   "execution_count": null,
   "metadata": {},
   "outputs": [],
   "source": [
    "Ls = np.linspace(0.4, 1.8, 100)\n",
    "A_w, A_b = 0.5, 0.5\n",
    "Tps = []\n",
    "for L in Ls:\n",
    "    T_p, A_w, A_b = solve(L, A_w=A_w, A_b=A_b)\n",
    "    Tps.append(T_p)\n",
    "\n",
    "plt.plot(Ls, Tps)\n",
    "\n",
    "Ls = np.linspace(1.8, 0.4, 100)\n",
    "A_w, A_b = 0.5, 0.5\n",
    "Tps = []\n",
    "for L in Ls:\n",
    "    T_p, A_w, A_b = solve(L, A_w=A_w, A_b=A_b)\n",
    "    Tps.append(T_p)\n",
    "\n",
    "plt.plot(Ls, Tps)"
   ]
  }
 ],
 "metadata": {
  "kernelspec": {
   "display_name": "py312",
   "language": "python",
   "name": "python3"
  },
  "language_info": {
   "codemirror_mode": {
    "name": "ipython",
    "version": 3
   },
   "file_extension": ".py",
   "mimetype": "text/x-python",
   "name": "python",
   "nbconvert_exporter": "python",
   "pygments_lexer": "ipython3",
   "version": "3.12.0"
  }
 },
 "nbformat": 4,
 "nbformat_minor": 2
}
