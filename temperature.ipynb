{
 "cells": [
  {
   "cell_type": "code",
   "execution_count": null,
   "metadata": {},
   "outputs": [],
   "source": [
    "import numpy as np\n",
    "import scipy\n",
    "import matplotlib.pyplot as plt\n",
    "from scipy.integrate import solve_ivp\n",
    "\n",
    "from helper import *\n",
    "\n",
    "%reload_ext autoreload\n",
    "%autoreload 2"
   ]
  },
  {
   "cell_type": "markdown",
   "metadata": {},
   "source": [
    "# Model 1\n"
   ]
  },
  {
   "cell_type": "code",
   "execution_count": null,
   "metadata": {},
   "outputs": [],
   "source": [
    "water_depth = 70\n",
    "ocean_coverage = 0.7\n",
    "shell_volume = surface_area(radius=R_E) * 70\n",
    "water_volume = ocean_coverage * shell_volume\n",
    "\n",
    "rho_water_grams = 1.025e6\n",
    "water_mass_grams = rho_water_grams * water_volume\n",
    "\n",
    "# Total heat capacity\n",
    "specific_heat_capacity_water = 4.186\n",
    "C = water_mass_grams * 4.186\n",
    "\n",
    "# Heat capacity per unit surface area\n",
    "C_prime = rho_water_grams * water_depth * ocean_coverage * specific_heat_capacity_water"
   ]
  },
  {
   "cell_type": "code",
   "execution_count": null,
   "metadata": {},
   "outputs": [],
   "source": [
    "S_0 = 1370\n",
    "alpha = 0.32\n",
    "\n",
    "E_gain = energy_flux_gain(alpha, S_0 / 4) * surface_area(R_E)\n",
    "emissivity = 0.65  # 0.65 - 0.99\n",
    "\n",
    "\n",
    "def f(t, y):\n",
    "    flux_loss = emissivity * sigma * y[0] ** 4\n",
    "    E_loss = flux_loss * surface_area(R_E)\n",
    "    return (E_gain - E_loss) / C\n",
    "\n",
    "\n",
    "t_f = 20 * 365 * 24 * 60 * 60\n",
    "t_eval = np.linspace(0, t_f, 1000)\n",
    "sol = solve_ivp(f, [0, t_f], [255], t_eval=t_eval)"
   ]
  },
  {
   "cell_type": "code",
   "execution_count": null,
   "metadata": {},
   "outputs": [],
   "source": [
    "plt.plot(sol.t, sol.y[0])"
   ]
  },
  {
   "cell_type": "markdown",
   "metadata": {},
   "source": [
    "# Albedo\n"
   ]
  },
  {
   "cell_type": "code",
   "execution_count": null,
   "metadata": {},
   "outputs": [],
   "source": [
    "temperatures_0 = np.ones_like(area_fraction) * 203\n",
    "solar_multiplier = 1.0\n",
    "time_interval_years = 100.0\n",
    "\n",
    "\n",
    "def solve(temperatures_0, solar_multiplier):\n",
    "\n",
    "    def f(t, y):\n",
    "        temperatures = y\n",
    "        flux_loss = energy_flux_loss(\n",
    "            temperatures, average_temperature(area_fraction, temperatures)\n",
    "        )\n",
    "        flux_gain = energy_flux_gain(\n",
    "            albedo(temperatures), local_solar_flux_along_normal, solar_multiplier\n",
    "        )\n",
    "        flux_net_gain = flux_gain - flux_loss\n",
    "        return flux_net_gain / C_prime\n",
    "\n",
    "    t_f = time_interval_years * 365 * 24 * 60 * 60\n",
    "    t_eval = np.linspace(0, t_f, 1000)\n",
    "    sol = solve_ivp(f, [0, t_f], temperatures_0, t_eval=t_eval)\n",
    "\n",
    "    return sol.y[:, -1]"
   ]
  },
  {
   "cell_type": "code",
   "execution_count": null,
   "metadata": {},
   "outputs": [],
   "source": [
    "def solve_all(multipliers):\n",
    "    final_temperatures = []\n",
    "    albedos = []\n",
    "    initial_temperatures = np.ones_like(area_fraction) * 203\n",
    "\n",
    "    for M in multipliers:\n",
    "        initial_temperatures = solve(initial_temperatures, M)\n",
    "        # print(initial_temperatures)\n",
    "        final_temperature = np.mean(initial_temperatures)\n",
    "        final_temperatures.append(final_temperature)\n",
    "        albedos.append(albedo(final_temperature))\n",
    "    return final_temperatures, albedos"
   ]
  },
  {
   "cell_type": "code",
   "execution_count": null,
   "metadata": {},
   "outputs": [],
   "source": [
    "multipliers_decr = np.linspace(1.4, 0.6, 100)\n",
    "multipliers_incr = np.linspace(0.6, 1.4, 100)\n",
    "\n",
    "temperatures_decr, albedos_decr = solve_all(multipliers_decr)\n",
    "temperatures_incr, albedos_incr = solve_all(multipliers_incr)"
   ]
  },
  {
   "cell_type": "code",
   "execution_count": null,
   "metadata": {},
   "outputs": [],
   "source": [
    "plt.plot(multipliers_decr, temperatures_decr, label=\"decreasing\")\n",
    "plt.plot(multipliers_incr, temperatures_incr, linestyle=\"--\", label=\"increasing\")\n",
    "plt.legend()"
   ]
  },
  {
   "cell_type": "code",
   "execution_count": null,
   "metadata": {},
   "outputs": [],
   "source": [
    "plt.plot(multipliers_decr, albedos_decr, label=\"decreasing\")\n",
    "plt.plot(multipliers_incr, albedos_incr, linestyle=\"--\", label=\"increasing\")\n",
    "plt.legend()"
   ]
  },
  {
   "cell_type": "code",
   "execution_count": null,
   "metadata": {},
   "outputs": [],
   "source": [
    "multipliers = np.linspace(0.6, 1.4, 50)\n",
    "initial_temperatures = np.linspace(203, 320, 50)\n",
    "\n",
    "mv, tv = np.meshgrid(multipliers, initial_temperatures)\n",
    "\n",
    "tf_v = np.ones_like(mv)\n",
    "\n",
    "for i in range(len(mv)):\n",
    "    print(i)\n",
    "    for j in range(len(mv[0])):\n",
    "        tf_v[i][j] = np.mean(\n",
    "            solve(\n",
    "                temperatures_0=np.ones_like(area_fraction) * tv[i][j],\n",
    "                solar_multiplier=mv[i][j],\n",
    "            )\n",
    "        )"
   ]
  },
  {
   "cell_type": "code",
   "execution_count": null,
   "metadata": {},
   "outputs": [],
   "source": [
    "plt.contourf(multipliers, initial_temperatures, tf_v - tv)\n",
    "plt.colorbar()\n",
    "\n",
    "v, u = np.gradient(tf_v - tv)\n",
    "n_sample = 2\n",
    "size = (50 // n_sample) ** 2\n",
    "u_vec = u[::n_sample, ::n_sample].reshape(size)\n",
    "v_vec = v[::n_sample, ::n_sample].reshape(size)\n",
    "vecs = np.array([u_vec, v_vec]).T\n",
    "vecs_normed = vecs / np.linalg.norm(vecs, axis=1, keepdims=True)\n",
    "plt.quiver(\n",
    "    mv[::n_sample, ::n_sample].reshape(size),\n",
    "    tv[::n_sample, ::n_sample].reshape(size),\n",
    "    vecs_normed[:, 0],\n",
    "    vecs_normed[:, 1],\n",
    ")"
   ]
  },
  {
   "cell_type": "code",
   "execution_count": null,
   "metadata": {},
   "outputs": [],
   "source": []
  }
 ],
 "metadata": {
  "kernelspec": {
   "display_name": "py312",
   "language": "python",
   "name": "python3"
  },
  "language_info": {
   "codemirror_mode": {
    "name": "ipython",
    "version": 3
   },
   "file_extension": ".py",
   "mimetype": "text/x-python",
   "name": "python",
   "nbconvert_exporter": "python",
   "pygments_lexer": "ipython3",
   "version": "3.12.0"
  }
 },
 "nbformat": 4,
 "nbformat_minor": 2
}
